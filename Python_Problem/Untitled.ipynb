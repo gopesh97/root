{
 "cells": [
  {
   "cell_type": "code",
   "execution_count": 11,
   "metadata": {},
   "outputs": [],
   "source": [
    "from tweepy.streaming import StreamListener\n",
    "from tweepy import OAuthHandler\n",
    "from tweepy import Stream\n",
    "from tweepy import API\n",
    "from tweepy import Cursor\n",
    "import cred"
   ]
  },
  {
   "cell_type": "code",
   "execution_count": 36,
   "metadata": {},
   "outputs": [],
   "source": [
    "auth = OAuthHandler(cred.API_key,cred.API_secret_key)\n",
    "auth.set_access_token(cred.Access_token, cred.Access_token_secret)\n",
    "auth_api = API(auth,wait_on_rate_limit=True)"
   ]
  },
  {
   "cell_type": "code",
   "execution_count": 31,
   "metadata": {
    "scrolled": true
   },
   "outputs": [
    {
     "name": "stdout",
     "output_type": "stream",
     "text": [
      "Getting data for midasIIITD\n",
      "name: MIDAS IIITD\n",
      "screen_name: midasIIITD\n",
      "description: MIDAS is a group of researchers at IIIT-Delhi who study, analyze, and build different multimedia systems for society leveraging multimodal information.\n",
      "statuses_count: 336\n",
      "friends_count: 42\n",
      "followers_count: 272\n"
     ]
    }
   ],
   "source": [
    "account = \"midasIIITD\"\n",
    "\n",
    "print(\"Getting data for \" + account)\n",
    "item = auth_api.get_user(account)\n",
    "print(\"name: \" + item.name)\n",
    "print(\"screen_name: \" + item.screen_name)\n",
    "print(\"description: \" + item.description)\n",
    "print(\"statuses_count: \" + str(item.statuses_count))\n",
    "print(\"friends_count: \" + str(item.friends_count))\n",
    "print(\"followers_count: \" + str(item.followers_count))"
   ]
  },
  {
   "cell_type": "code",
   "execution_count": 32,
   "metadata": {},
   "outputs": [],
   "source": [
    "import jsonlines"
   ]
  },
  {
   "cell_type": "code",
   "execution_count": 33,
   "metadata": {},
   "outputs": [],
   "source": [
    "file = jsonlines.open('output_tweets.jsonl', mode='w')"
   ]
  },
  {
   "cell_type": "code",
   "execution_count": 34,
   "metadata": {},
   "outputs": [
    {
     "ename": "AttributeError",
     "evalue": "'Writer' object has no attribute 'dumps'",
     "output_type": "error",
     "traceback": [
      "\u001b[0;31m---------------------------------------------------------------------------\u001b[0m",
      "\u001b[0;31mAttributeError\u001b[0m                            Traceback (most recent call last)",
      "\u001b[0;32m<ipython-input-34-835be5490787>\u001b[0m in \u001b[0;36m<module>\u001b[0;34m\u001b[0m\n\u001b[0;32m----> 1\u001b[0;31m \u001b[0mfile\u001b[0m\u001b[0;34m.\u001b[0m\u001b[0mdumps\u001b[0m\u001b[0;34m(\u001b[0m\u001b[0;34m)\u001b[0m\u001b[0;34m\u001b[0m\u001b[0;34m\u001b[0m\u001b[0m\n\u001b[0m",
      "\u001b[0;31mAttributeError\u001b[0m: 'Writer' object has no attribute 'dumps'"
     ]
    }
   ],
   "source": [
    "file.dumps()"
   ]
  },
  {
   "cell_type": "code",
   "execution_count": 35,
   "metadata": {},
   "outputs": [
    {
     "ename": "TweepError",
     "evalue": "Twitter error response: status code = 429",
     "output_type": "error",
     "traceback": [
      "\u001b[0;31m---------------------------------------------------------------------------\u001b[0m",
      "\u001b[0;31mTweepError\u001b[0m                                Traceback (most recent call last)",
      "\u001b[0;32m<ipython-input-35-ab606f885d34>\u001b[0m in \u001b[0;36m<module>\u001b[0;34m\u001b[0m\n\u001b[0;32m----> 1\u001b[0;31m \u001b[0;32mfor\u001b[0m \u001b[0mstatus\u001b[0m \u001b[0;32min\u001b[0m \u001b[0mCursor\u001b[0m\u001b[0;34m(\u001b[0m\u001b[0mauth_api\u001b[0m\u001b[0;34m.\u001b[0m\u001b[0mhome_timeline\u001b[0m\u001b[0;34m)\u001b[0m\u001b[0;34m.\u001b[0m\u001b[0mitems\u001b[0m\u001b[0;34m(\u001b[0m\u001b[0;36m10\u001b[0m\u001b[0;34m)\u001b[0m\u001b[0;34m:\u001b[0m\u001b[0;34m\u001b[0m\u001b[0;34m\u001b[0m\u001b[0m\n\u001b[0m\u001b[1;32m      2\u001b[0m     \u001b[0mprint\u001b[0m\u001b[0;34m(\u001b[0m\u001b[0mstatus\u001b[0m\u001b[0;34m)\u001b[0m\u001b[0;34m\u001b[0m\u001b[0;34m\u001b[0m\u001b[0m\n",
      "\u001b[0;32m~/.local/lib/python3.6/site-packages/tweepy/cursor.py\u001b[0m in \u001b[0;36m__next__\u001b[0;34m(self)\u001b[0m\n\u001b[1;32m     47\u001b[0m \u001b[0;34m\u001b[0m\u001b[0m\n\u001b[1;32m     48\u001b[0m     \u001b[0;32mdef\u001b[0m \u001b[0m__next__\u001b[0m\u001b[0;34m(\u001b[0m\u001b[0mself\u001b[0m\u001b[0;34m)\u001b[0m\u001b[0;34m:\u001b[0m\u001b[0;34m\u001b[0m\u001b[0;34m\u001b[0m\u001b[0m\n\u001b[0;32m---> 49\u001b[0;31m         \u001b[0;32mreturn\u001b[0m \u001b[0mself\u001b[0m\u001b[0;34m.\u001b[0m\u001b[0mnext\u001b[0m\u001b[0;34m(\u001b[0m\u001b[0;34m)\u001b[0m\u001b[0;34m\u001b[0m\u001b[0;34m\u001b[0m\u001b[0m\n\u001b[0m\u001b[1;32m     50\u001b[0m \u001b[0;34m\u001b[0m\u001b[0m\n\u001b[1;32m     51\u001b[0m     \u001b[0;32mdef\u001b[0m \u001b[0mnext\u001b[0m\u001b[0;34m(\u001b[0m\u001b[0mself\u001b[0m\u001b[0;34m)\u001b[0m\u001b[0;34m:\u001b[0m\u001b[0;34m\u001b[0m\u001b[0;34m\u001b[0m\u001b[0m\n",
      "\u001b[0;32m~/.local/lib/python3.6/site-packages/tweepy/cursor.py\u001b[0m in \u001b[0;36mnext\u001b[0;34m(self)\u001b[0m\n\u001b[1;32m    195\u001b[0m         \u001b[0;32mif\u001b[0m \u001b[0mself\u001b[0m\u001b[0;34m.\u001b[0m\u001b[0mcurrent_page\u001b[0m \u001b[0;32mis\u001b[0m \u001b[0;32mNone\u001b[0m \u001b[0;32mor\u001b[0m \u001b[0mself\u001b[0m\u001b[0;34m.\u001b[0m\u001b[0mpage_index\u001b[0m \u001b[0;34m==\u001b[0m \u001b[0mlen\u001b[0m\u001b[0;34m(\u001b[0m\u001b[0mself\u001b[0m\u001b[0;34m.\u001b[0m\u001b[0mcurrent_page\u001b[0m\u001b[0;34m)\u001b[0m \u001b[0;34m-\u001b[0m \u001b[0;36m1\u001b[0m\u001b[0;34m:\u001b[0m\u001b[0;34m\u001b[0m\u001b[0;34m\u001b[0m\u001b[0m\n\u001b[1;32m    196\u001b[0m             \u001b[0;31m# Reached end of current page, get the next page...\u001b[0m\u001b[0;34m\u001b[0m\u001b[0;34m\u001b[0m\u001b[0;34m\u001b[0m\u001b[0m\n\u001b[0;32m--> 197\u001b[0;31m             \u001b[0mself\u001b[0m\u001b[0;34m.\u001b[0m\u001b[0mcurrent_page\u001b[0m \u001b[0;34m=\u001b[0m \u001b[0mself\u001b[0m\u001b[0;34m.\u001b[0m\u001b[0mpage_iterator\u001b[0m\u001b[0;34m.\u001b[0m\u001b[0mnext\u001b[0m\u001b[0;34m(\u001b[0m\u001b[0;34m)\u001b[0m\u001b[0;34m\u001b[0m\u001b[0;34m\u001b[0m\u001b[0m\n\u001b[0m\u001b[1;32m    198\u001b[0m             \u001b[0mself\u001b[0m\u001b[0;34m.\u001b[0m\u001b[0mpage_index\u001b[0m \u001b[0;34m=\u001b[0m \u001b[0;34m-\u001b[0m\u001b[0;36m1\u001b[0m\u001b[0;34m\u001b[0m\u001b[0;34m\u001b[0m\u001b[0m\n\u001b[1;32m    199\u001b[0m         \u001b[0mself\u001b[0m\u001b[0;34m.\u001b[0m\u001b[0mpage_index\u001b[0m \u001b[0;34m+=\u001b[0m \u001b[0;36m1\u001b[0m\u001b[0;34m\u001b[0m\u001b[0;34m\u001b[0m\u001b[0m\n",
      "\u001b[0;32m~/.local/lib/python3.6/site-packages/tweepy/cursor.py\u001b[0m in \u001b[0;36mnext\u001b[0;34m(self)\u001b[0m\n\u001b[1;32m    106\u001b[0m \u001b[0;34m\u001b[0m\u001b[0m\n\u001b[1;32m    107\u001b[0m         \u001b[0;32mif\u001b[0m \u001b[0mself\u001b[0m\u001b[0;34m.\u001b[0m\u001b[0mindex\u001b[0m \u001b[0;34m>=\u001b[0m \u001b[0mlen\u001b[0m\u001b[0;34m(\u001b[0m\u001b[0mself\u001b[0m\u001b[0;34m.\u001b[0m\u001b[0mresults\u001b[0m\u001b[0;34m)\u001b[0m \u001b[0;34m-\u001b[0m \u001b[0;36m1\u001b[0m\u001b[0;34m:\u001b[0m\u001b[0;34m\u001b[0m\u001b[0;34m\u001b[0m\u001b[0m\n\u001b[0;32m--> 108\u001b[0;31m             \u001b[0mdata\u001b[0m \u001b[0;34m=\u001b[0m \u001b[0mself\u001b[0m\u001b[0;34m.\u001b[0m\u001b[0mmethod\u001b[0m\u001b[0;34m(\u001b[0m\u001b[0mmax_id\u001b[0m\u001b[0;34m=\u001b[0m\u001b[0mself\u001b[0m\u001b[0;34m.\u001b[0m\u001b[0mmax_id\u001b[0m\u001b[0;34m,\u001b[0m \u001b[0mparser\u001b[0m\u001b[0;34m=\u001b[0m\u001b[0mRawParser\u001b[0m\u001b[0;34m(\u001b[0m\u001b[0;34m)\u001b[0m\u001b[0;34m,\u001b[0m \u001b[0;34m*\u001b[0m\u001b[0mself\u001b[0m\u001b[0;34m.\u001b[0m\u001b[0margs\u001b[0m\u001b[0;34m,\u001b[0m \u001b[0;34m**\u001b[0m\u001b[0mself\u001b[0m\u001b[0;34m.\u001b[0m\u001b[0mkargs\u001b[0m\u001b[0;34m)\u001b[0m\u001b[0;34m\u001b[0m\u001b[0;34m\u001b[0m\u001b[0m\n\u001b[0m\u001b[1;32m    109\u001b[0m \u001b[0;34m\u001b[0m\u001b[0m\n\u001b[1;32m    110\u001b[0m             \u001b[0;32mif\u001b[0m \u001b[0mhasattr\u001b[0m\u001b[0;34m(\u001b[0m\u001b[0mself\u001b[0m\u001b[0;34m.\u001b[0m\u001b[0mmethod\u001b[0m\u001b[0;34m,\u001b[0m \u001b[0;34m'__self__'\u001b[0m\u001b[0;34m)\u001b[0m\u001b[0;34m:\u001b[0m\u001b[0;34m\u001b[0m\u001b[0;34m\u001b[0m\u001b[0m\n",
      "\u001b[0;32m~/.local/lib/python3.6/site-packages/tweepy/binder.py\u001b[0m in \u001b[0;36m_call\u001b[0;34m(*args, **kwargs)\u001b[0m\n\u001b[1;32m    248\u001b[0m             \u001b[0;32mreturn\u001b[0m \u001b[0mmethod\u001b[0m\u001b[0;34m\u001b[0m\u001b[0;34m\u001b[0m\u001b[0m\n\u001b[1;32m    249\u001b[0m         \u001b[0;32melse\u001b[0m\u001b[0;34m:\u001b[0m\u001b[0;34m\u001b[0m\u001b[0;34m\u001b[0m\u001b[0m\n\u001b[0;32m--> 250\u001b[0;31m             \u001b[0;32mreturn\u001b[0m \u001b[0mmethod\u001b[0m\u001b[0;34m.\u001b[0m\u001b[0mexecute\u001b[0m\u001b[0;34m(\u001b[0m\u001b[0;34m)\u001b[0m\u001b[0;34m\u001b[0m\u001b[0;34m\u001b[0m\u001b[0m\n\u001b[0m\u001b[1;32m    251\u001b[0m \u001b[0;34m\u001b[0m\u001b[0m\n\u001b[1;32m    252\u001b[0m     \u001b[0;31m# Set pagination mode\u001b[0m\u001b[0;34m\u001b[0m\u001b[0;34m\u001b[0m\u001b[0;34m\u001b[0m\u001b[0m\n",
      "\u001b[0;32m~/.local/lib/python3.6/site-packages/tweepy/binder.py\u001b[0m in \u001b[0;36mexecute\u001b[0;34m(self)\u001b[0m\n\u001b[1;32m    232\u001b[0m                     \u001b[0;32mraise\u001b[0m \u001b[0mRateLimitError\u001b[0m\u001b[0;34m(\u001b[0m\u001b[0merror_msg\u001b[0m\u001b[0;34m,\u001b[0m \u001b[0mresp\u001b[0m\u001b[0;34m)\u001b[0m\u001b[0;34m\u001b[0m\u001b[0;34m\u001b[0m\u001b[0m\n\u001b[1;32m    233\u001b[0m                 \u001b[0;32melse\u001b[0m\u001b[0;34m:\u001b[0m\u001b[0;34m\u001b[0m\u001b[0;34m\u001b[0m\u001b[0m\n\u001b[0;32m--> 234\u001b[0;31m                     \u001b[0;32mraise\u001b[0m \u001b[0mTweepError\u001b[0m\u001b[0;34m(\u001b[0m\u001b[0merror_msg\u001b[0m\u001b[0;34m,\u001b[0m \u001b[0mresp\u001b[0m\u001b[0;34m,\u001b[0m \u001b[0mapi_code\u001b[0m\u001b[0;34m=\u001b[0m\u001b[0mapi_error_code\u001b[0m\u001b[0;34m)\u001b[0m\u001b[0;34m\u001b[0m\u001b[0;34m\u001b[0m\u001b[0m\n\u001b[0m\u001b[1;32m    235\u001b[0m \u001b[0;34m\u001b[0m\u001b[0m\n\u001b[1;32m    236\u001b[0m             \u001b[0;31m# Parse the response payload\u001b[0m\u001b[0;34m\u001b[0m\u001b[0;34m\u001b[0m\u001b[0;34m\u001b[0m\u001b[0m\n",
      "\u001b[0;31mTweepError\u001b[0m: Twitter error response: status code = 429"
     ]
    }
   ],
   "source": [
    "for status in Cursor(auth_api.home_timeline).items(10):\n",
    "    print(status)"
   ]
  },
  {
   "cell_type": "code",
   "execution_count": 25,
   "metadata": {},
   "outputs": [],
   "source": [
    "import json"
   ]
  },
  {
   "cell_type": "code",
   "execution_count": 26,
   "metadata": {
    "scrolled": true
   },
   "outputs": [
    {
     "name": "stdout",
     "output_type": "stream",
     "text": [
      "Status(_api=<tweepy.api.API object at 0x7f76e3233a90>, _json={'created_at': 'Sun Apr 07 20:15:33 +0000 2019', 'id': 1114985080882118658, 'id_str': '1114985080882118658', 'text': 'The Real Power of #AI is NOT artificial — it is \"Accelerated/ Actionable/ Adaptable/ Agile/ Amplified/ Applied/ Ass… https://t.co/qrihHAzd4F', 'truncated': True, 'entities': {'hashtags': [{'text': 'AI', 'indices': [18, 21]}], 'symbols': [], 'user_mentions': [], 'urls': [{'url': 'https://t.co/qrihHAzd4F', 'expanded_url': 'https://twitter.com/i/web/status/1114985080882118658', 'display_url': 'twitter.com/i/web/status/1…', 'indices': [117, 140]}]}, 'source': '<a href=\"http://twitter.com/download/iphone\" rel=\"nofollow\">Twitter for iPhone</a>', 'in_reply_to_status_id': 1114984476717867009, 'in_reply_to_status_id_str': '1114984476717867009', 'in_reply_to_user_id': 534563976, 'in_reply_to_user_id_str': '534563976', 'in_reply_to_screen_name': 'KirkDBorne', 'user': {'id': 534563976, 'id_str': '534563976', 'name': 'Kirk Borne', 'screen_name': 'KirkDBorne', 'location': 'Booz Allen Hamilton', 'description': 'Principal Data Scientist @BoozAllen. Global Speaker. Top Big Data Science & #AI Influencer. PhD Astrophysicist. Ex-Professor. https://t.co/f4gsbNc00C 📊🔭', 'url': 'https://t.co/tWlmeuTlR7', 'entities': {'url': {'urls': [{'url': 'https://t.co/tWlmeuTlR7', 'expanded_url': 'http://www.linkedin.com/in/kirkdborne', 'display_url': 'linkedin.com/in/kirkdborne', 'indices': [0, 23]}]}, 'description': {'urls': [{'url': 'https://t.co/f4gsbNc00C', 'expanded_url': 'http://rocketdatascience.org/', 'display_url': 'rocketdatascience.org', 'indices': [126, 149]}]}}, 'protected': False, 'followers_count': 227197, 'friends_count': 21621, 'listed_count': 7640, 'created_at': 'Fri Mar 23 16:35:17 +0000 2012', 'favourites_count': 181822, 'utc_offset': None, 'time_zone': None, 'geo_enabled': False, 'verified': True, 'statuses_count': 99166, 'lang': 'en', 'contributors_enabled': False, 'is_translator': False, 'is_translation_enabled': False, 'profile_background_color': 'C0DEED', 'profile_background_image_url': 'http://abs.twimg.com/images/themes/theme1/bg.png', 'profile_background_image_url_https': 'https://abs.twimg.com/images/themes/theme1/bg.png', 'profile_background_tile': True, 'profile_image_url': 'http://pbs.twimg.com/profile_images/1112733580948635648/s-8d1avb_normal.jpg', 'profile_image_url_https': 'https://pbs.twimg.com/profile_images/1112733580948635648/s-8d1avb_normal.jpg', 'profile_banner_url': 'https://pbs.twimg.com/profile_banners/534563976/1540268609', 'profile_link_color': '0084B4', 'profile_sidebar_border_color': 'FFFFFF', 'profile_sidebar_fill_color': 'DDEEF6', 'profile_text_color': '333333', 'profile_use_background_image': True, 'has_extended_profile': True, 'default_profile': False, 'default_profile_image': False, 'following': True, 'follow_request_sent': False, 'notifications': False, 'translator_type': 'none'}, 'geo': None, 'coordinates': None, 'place': None, 'contributors': None, 'is_quote_status': False, 'retweet_count': 0, 'favorite_count': 0, 'favorited': False, 'retweeted': False, 'possibly_sensitive': False, 'possibly_sensitive_appealable': False, 'lang': 'en'}, created_at=datetime.datetime(2019, 4, 7, 20, 15, 33), id=1114985080882118658, id_str='1114985080882118658', text='The Real Power of #AI is NOT artificial — it is \"Accelerated/ Actionable/ Adaptable/ Agile/ Amplified/ Applied/ Ass… https://t.co/qrihHAzd4F', truncated=True, entities={'hashtags': [{'text': 'AI', 'indices': [18, 21]}], 'symbols': [], 'user_mentions': [], 'urls': [{'url': 'https://t.co/qrihHAzd4F', 'expanded_url': 'https://twitter.com/i/web/status/1114985080882118658', 'display_url': 'twitter.com/i/web/status/1…', 'indices': [117, 140]}]}, source='Twitter for iPhone', source_url='http://twitter.com/download/iphone', in_reply_to_status_id=1114984476717867009, in_reply_to_status_id_str='1114984476717867009', in_reply_to_user_id=534563976, in_reply_to_user_id_str='534563976', in_reply_to_screen_name='KirkDBorne', author=User(_api=<tweepy.api.API object at 0x7f76e3233a90>, _json={'id': 534563976, 'id_str': '534563976', 'name': 'Kirk Borne', 'screen_name': 'KirkDBorne', 'location': 'Booz Allen Hamilton', 'description': 'Principal Data Scientist @BoozAllen. Global Speaker. Top Big Data Science & #AI Influencer. PhD Astrophysicist. Ex-Professor. https://t.co/f4gsbNc00C 📊🔭', 'url': 'https://t.co/tWlmeuTlR7', 'entities': {'url': {'urls': [{'url': 'https://t.co/tWlmeuTlR7', 'expanded_url': 'http://www.linkedin.com/in/kirkdborne', 'display_url': 'linkedin.com/in/kirkdborne', 'indices': [0, 23]}]}, 'description': {'urls': [{'url': 'https://t.co/f4gsbNc00C', 'expanded_url': 'http://rocketdatascience.org/', 'display_url': 'rocketdatascience.org', 'indices': [126, 149]}]}}, 'protected': False, 'followers_count': 227197, 'friends_count': 21621, 'listed_count': 7640, 'created_at': 'Fri Mar 23 16:35:17 +0000 2012', 'favourites_count': 181822, 'utc_offset': None, 'time_zone': None, 'geo_enabled': False, 'verified': True, 'statuses_count': 99166, 'lang': 'en', 'contributors_enabled': False, 'is_translator': False, 'is_translation_enabled': False, 'profile_background_color': 'C0DEED', 'profile_background_image_url': 'http://abs.twimg.com/images/themes/theme1/bg.png', 'profile_background_image_url_https': 'https://abs.twimg.com/images/themes/theme1/bg.png', 'profile_background_tile': True, 'profile_image_url': 'http://pbs.twimg.com/profile_images/1112733580948635648/s-8d1avb_normal.jpg', 'profile_image_url_https': 'https://pbs.twimg.com/profile_images/1112733580948635648/s-8d1avb_normal.jpg', 'profile_banner_url': 'https://pbs.twimg.com/profile_banners/534563976/1540268609', 'profile_link_color': '0084B4', 'profile_sidebar_border_color': 'FFFFFF', 'profile_sidebar_fill_color': 'DDEEF6', 'profile_text_color': '333333', 'profile_use_background_image': True, 'has_extended_profile': True, 'default_profile': False, 'default_profile_image': False, 'following': True, 'follow_request_sent': False, 'notifications': False, 'translator_type': 'none'}, id=534563976, id_str='534563976', name='Kirk Borne', screen_name='KirkDBorne', location='Booz Allen Hamilton', description='Principal Data Scientist @BoozAllen. Global Speaker. Top Big Data Science & #AI Influencer. PhD Astrophysicist. Ex-Professor. https://t.co/f4gsbNc00C 📊🔭', url='https://t.co/tWlmeuTlR7', entities={'url': {'urls': [{'url': 'https://t.co/tWlmeuTlR7', 'expanded_url': 'http://www.linkedin.com/in/kirkdborne', 'display_url': 'linkedin.com/in/kirkdborne', 'indices': [0, 23]}]}, 'description': {'urls': [{'url': 'https://t.co/f4gsbNc00C', 'expanded_url': 'http://rocketdatascience.org/', 'display_url': 'rocketdatascience.org', 'indices': [126, 149]}]}}, protected=False, followers_count=227197, friends_count=21621, listed_count=7640, created_at=datetime.datetime(2012, 3, 23, 16, 35, 17), favourites_count=181822, utc_offset=None, time_zone=None, geo_enabled=False, verified=True, statuses_count=99166, lang='en', contributors_enabled=False, is_translator=False, is_translation_enabled=False, profile_background_color='C0DEED', profile_background_image_url='http://abs.twimg.com/images/themes/theme1/bg.png', profile_background_image_url_https='https://abs.twimg.com/images/themes/theme1/bg.png', profile_background_tile=True, profile_image_url='http://pbs.twimg.com/profile_images/1112733580948635648/s-8d1avb_normal.jpg', profile_image_url_https='https://pbs.twimg.com/profile_images/1112733580948635648/s-8d1avb_normal.jpg', profile_banner_url='https://pbs.twimg.com/profile_banners/534563976/1540268609', profile_link_color='0084B4', profile_sidebar_border_color='FFFFFF', profile_sidebar_fill_color='DDEEF6', profile_text_color='333333', profile_use_background_image=True, has_extended_profile=True, default_profile=False, default_profile_image=False, following=True, follow_request_sent=False, notifications=False, translator_type='none'), user=User(_api=<tweepy.api.API object at 0x7f76e3233a90>, _json={'id': 534563976, 'id_str': '534563976', 'name': 'Kirk Borne', 'screen_name': 'KirkDBorne', 'location': 'Booz Allen Hamilton', 'description': 'Principal Data Scientist @BoozAllen. Global Speaker. Top Big Data Science & #AI Influencer. PhD Astrophysicist. Ex-Professor. https://t.co/f4gsbNc00C 📊🔭', 'url': 'https://t.co/tWlmeuTlR7', 'entities': {'url': {'urls': [{'url': 'https://t.co/tWlmeuTlR7', 'expanded_url': 'http://www.linkedin.com/in/kirkdborne', 'display_url': 'linkedin.com/in/kirkdborne', 'indices': [0, 23]}]}, 'description': {'urls': [{'url': 'https://t.co/f4gsbNc00C', 'expanded_url': 'http://rocketdatascience.org/', 'display_url': 'rocketdatascience.org', 'indices': [126, 149]}]}}, 'protected': False, 'followers_count': 227197, 'friends_count': 21621, 'listed_count': 7640, 'created_at': 'Fri Mar 23 16:35:17 +0000 2012', 'favourites_count': 181822, 'utc_offset': None, 'time_zone': None, 'geo_enabled': False, 'verified': True, 'statuses_count': 99166, 'lang': 'en', 'contributors_enabled': False, 'is_translator': False, 'is_translation_enabled': False, 'profile_background_color': 'C0DEED', 'profile_background_image_url': 'http://abs.twimg.com/images/themes/theme1/bg.png', 'profile_background_image_url_https': 'https://abs.twimg.com/images/themes/theme1/bg.png', 'profile_background_tile': True, 'profile_image_url': 'http://pbs.twimg.com/profile_images/1112733580948635648/s-8d1avb_normal.jpg', 'profile_image_url_https': 'https://pbs.twimg.com/profile_images/1112733580948635648/s-8d1avb_normal.jpg', 'profile_banner_url': 'https://pbs.twimg.com/profile_banners/534563976/1540268609', 'profile_link_color': '0084B4', 'profile_sidebar_border_color': 'FFFFFF', 'profile_sidebar_fill_color': 'DDEEF6', 'profile_text_color': '333333', 'profile_use_background_image': True, 'has_extended_profile': True, 'default_profile': False, 'default_profile_image': False, 'following': True, 'follow_request_sent': False, 'notifications': False, 'translator_type': 'none'}, id=534563976, id_str='534563976', name='Kirk Borne', screen_name='KirkDBorne', location='Booz Allen Hamilton', description='Principal Data Scientist @BoozAllen. Global Speaker. Top Big Data Science & #AI Influencer. PhD Astrophysicist. Ex-Professor. https://t.co/f4gsbNc00C 📊🔭', url='https://t.co/tWlmeuTlR7', entities={'url': {'urls': [{'url': 'https://t.co/tWlmeuTlR7', 'expanded_url': 'http://www.linkedin.com/in/kirkdborne', 'display_url': 'linkedin.com/in/kirkdborne', 'indices': [0, 23]}]}, 'description': {'urls': [{'url': 'https://t.co/f4gsbNc00C', 'expanded_url': 'http://rocketdatascience.org/', 'display_url': 'rocketdatascience.org', 'indices': [126, 149]}]}}, protected=False, followers_count=227197, friends_count=21621, listed_count=7640, created_at=datetime.datetime(2012, 3, 23, 16, 35, 17), favourites_count=181822, utc_offset=None, time_zone=None, geo_enabled=False, verified=True, statuses_count=99166, lang='en', contributors_enabled=False, is_translator=False, is_translation_enabled=False, profile_background_color='C0DEED', profile_background_image_url='http://abs.twimg.com/images/themes/theme1/bg.png', profile_background_image_url_https='https://abs.twimg.com/images/themes/theme1/bg.png', profile_background_tile=True, profile_image_url='http://pbs.twimg.com/profile_images/1112733580948635648/s-8d1avb_normal.jpg', profile_image_url_https='https://pbs.twimg.com/profile_images/1112733580948635648/s-8d1avb_normal.jpg', profile_banner_url='https://pbs.twimg.com/profile_banners/534563976/1540268609', profile_link_color='0084B4', profile_sidebar_border_color='FFFFFF', profile_sidebar_fill_color='DDEEF6', profile_text_color='333333', profile_use_background_image=True, has_extended_profile=True, default_profile=False, default_profile_image=False, following=True, follow_request_sent=False, notifications=False, translator_type='none'), geo=None, coordinates=None, place=None, contributors=None, is_quote_status=False, retweet_count=0, favorite_count=0, favorited=False, retweeted=False, possibly_sensitive=False, possibly_sensitive_appealable=False, lang='en')\n"
     ]
    }
   ],
   "source": [
    "for tweet in Cursor(auth_api.home_timeline).items(1):\n",
    "    print(tweet)"
   ]
  },
  {
   "cell_type": "code",
   "execution_count": 39,
   "metadata": {},
   "outputs": [
    {
     "name": "stdout",
     "output_type": "stream",
     "text": [
      "{'limit': 15, 'remaining': 0, 'reset': 1554669170}\n",
      "{'limit': 900, 'remaining': 900, 'reset': 1554669592}\n"
     ]
    }
   ],
   "source": [
    "data = auth_api.rate_limit_status()\n",
    "\n",
    "print (data['resources']['statuses']['/statuses/home_timeline'])\n",
    "print (data['resources']['users']['/users/lookup'])"
   ]
  },
  {
   "cell_type": "code",
   "execution_count": null,
   "metadata": {},
   "outputs": [],
   "source": []
  }
 ],
 "metadata": {
  "kernelspec": {
   "display_name": "Python 3",
   "language": "python",
   "name": "python3"
  },
  "language_info": {
   "codemirror_mode": {
    "name": "ipython",
    "version": 3
   },
   "file_extension": ".py",
   "mimetype": "text/x-python",
   "name": "python",
   "nbconvert_exporter": "python",
   "pygments_lexer": "ipython3",
   "version": "3.6.7"
  }
 },
 "nbformat": 4,
 "nbformat_minor": 2
}
