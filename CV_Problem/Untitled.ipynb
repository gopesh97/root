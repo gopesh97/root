{
 "cells": [
  {
   "cell_type": "code",
   "execution_count": 20,
   "metadata": {},
   "outputs": [],
   "source": [
    "import pickle\n",
    "import numpy as np\n",
    "import matplotlib.pyplot as plt"
   ]
  },
  {
   "cell_type": "code",
   "execution_count": 21,
   "metadata": {},
   "outputs": [],
   "source": [
    "%matplotlib inline"
   ]
  },
  {
   "cell_type": "code",
   "execution_count": 3,
   "metadata": {},
   "outputs": [],
   "source": [
    "file = open('Vision_task_dataset_public/train_image.pkl', 'rb')\n",
    "images = pickle.load(file)\n",
    "file.close()\n"
   ]
  },
  {
   "cell_type": "code",
   "execution_count": 12,
   "metadata": {},
   "outputs": [],
   "source": [
    "images=np.array(images)"
   ]
  },
  {
   "cell_type": "code",
   "execution_count": 13,
   "metadata": {},
   "outputs": [
    {
     "data": {
      "text/plain": [
       "(8000, 784)"
      ]
     },
     "execution_count": 13,
     "metadata": {},
     "output_type": "execute_result"
    }
   ],
   "source": [
    "images.shape"
   ]
  },
  {
   "cell_type": "code",
   "execution_count": 14,
   "metadata": {},
   "outputs": [
    {
     "data": {
      "text/plain": [
       "array([  0,   0,   0,   0,   0,   0,   0,   0,   0,  22, 118,  24,   0,\n",
       "         0,   0,   0,   0,  48,  88,   5,   0,   0,   0,   0,   0,   0,\n",
       "         0,   0,   0,   0,   0,   0,   0,   0,   0,   0,  12, 100, 212,\n",
       "       205, 185, 179, 173, 186, 193, 221, 142,  85,   0,   0,   0,   0,\n",
       "         0,   0,   0,   0,   0,   0,   0,   0,   0,   0,   0,   0,   0,\n",
       "        85,  76, 199, 225, 248, 255, 238, 226, 157,  68,  80,   0,   0,\n",
       "         0,   0,   0,   0,   0,   0,   0,   0,   0,   0,   0,   0,   0,\n",
       "         0,   0,  91,  69,  91, 201, 218, 225, 209, 158,  61,  93,  72,\n",
       "         0,   0,   0,   0,   0,   0,   0,   0,   0,   0,   0,   0,   0,\n",
       "         0,   0,   0,   0,  79,  89,  61,  59,  87, 108,  75,  56,  76,\n",
       "        97,  73,   0,   0,   0,   0,   0,   0,   0,   0,   0,   0,   0,\n",
       "         0,   0,   0,   0,   0,   0,  75,  89,  80,  80,  67,  63,  73,\n",
       "        83,  80,  96,  72,   0,   0,   0,   0,   0,   0,   0,   0,   0,\n",
       "         0,   0,   0,   0,   0,   0,   0,   0,  77,  88,  77,  80,  83,\n",
       "        83,  83,  83,  81,  95,  76,   0,   0,   0,   0,   0,   0,   0,\n",
       "         0,   0,   0,   0,   0,   0,   0,   0,   0,   0,  89,  96,  80,\n",
       "        83,  81,  84,  85,  85,  85,  97,  84,   0,   0,   0,   0,   0,\n",
       "         0,   0,   0,   0,   0,   0,   0,   0,   0,   0,   0,   0,  93,\n",
       "        97,  81,  85,  84,  85,  87,  88,  84,  99,  87,   0,   0,   0,\n",
       "         0,   0,   0,   0,   0,   0,   0,   0,   0,   0,   0,   0,   0,\n",
       "         0,  95,  87,  84,  87,  88,  85,  87,  87,  84,  92,  87,   0,\n",
       "         0,   0,   0,   0,   0,   0,   0,   0,   0,   0,   0,   0,   0,\n",
       "         0,   0,   0,  97,  87,  87,  85,  88,  87,  87,  87,  88,  85,\n",
       "       107,   0,   0,   0,   0,   0,   0,   0,   0,   0,   0,   0,   0,\n",
       "         0,   0,   0,   0,  17, 100,  88,  87,  87,  88,  87,  87,  85,\n",
       "        89,  77, 118,   8,   0,   0,   0,   0,   0,   0,   0,   0,   0,\n",
       "         0,   0,   0,   0,   0,   0,  10,  93,  87,  87,  87,  87,  87,\n",
       "        88,  87,  89,  80, 103,   0,   0,   0,   0,   0,   0,   0,   0,\n",
       "         0,   0,   0,   0,   0,   0,   0,   0,   9,  96,  87,  87,  87,\n",
       "        87,  87,  88,  87,  88,  87, 103,   0,   0,   0,   0,   0,   0,\n",
       "         0,   0,   0,   0,   0,   0,   0,   0,   0,   0,  12,  96,  85,\n",
       "        87,  87,  87,  85,  87,  87,  88,  89, 100,   2,   0,   0,   0,\n",
       "         0,   0,   0,   0,   0,   0,   0,   0,   0,   0,   0,   0,  20,\n",
       "        95,  84,  88,  85,  87,  88,  88,  88,  89,  88,  99,   8,   0,\n",
       "         0,   0,   0,   0,   0,   0,   0,   0,   0,   0,   0,   0,   0,\n",
       "         0,  21,  96,  85,  87,  85,  88,  88,  88,  88,  89,  89,  99,\n",
       "        10,   0,   0,   0,   0,   0,   0,   0,   0,   0,   0,   0,   0,\n",
       "         0,   0,   0,  24,  96,  85,  87,  85,  87,  88,  88,  89,  88,\n",
       "        91, 102,  14,   0,   0,   0,   0,   0,   0,   0,   0,   0,   0,\n",
       "         0,   0,   0,   0,   0,  25,  93,  84,  88,  87,  87,  87,  87,\n",
       "        87,  89,  91, 103,  29,   0,   0,   0,   0,   0,   0,   0,   0,\n",
       "         0,   0,   0,   0,   0,   0,   0,  30,  95,  85,  88,  88,  87,\n",
       "        87,  87,  87,  89,  88, 102,  37,   0,   0,   0,   0,   0,   0,\n",
       "         0,   0,   0,   0,   0,   0,   0,   0,   0,  34,  96,  88,  87,\n",
       "        87,  87,  87,  87,  87,  85,  85,  97,  38,   0,   0,   0,   0,\n",
       "         0,   0,   0,   0,   0,   0,   0,   0,   0,   0,   0,  40,  96,\n",
       "        87,  85,  87,  87,  87,  87,  87,  85,  84,  92,  49,   0,   0,\n",
       "         0,   0,   0,   0,   0,   0,   0,   0,   0,   0,   0,   0,   0,\n",
       "        46,  95,  83,  84,  87,  87,  87,  87,  87,  87,  84,  87,  84,\n",
       "         0,   0,   0,   0,   0,   0,   0,   0,   0,   0,   0,   0,   0,\n",
       "         0,   0,  72,  95,  85,  84,  85,  88,  87,  87,  89,  87,  85,\n",
       "        83,  63,   0,   0,   0,   0,   0,   0,   0,   0,   0,   0,   0,\n",
       "         0,   0,   0,   0,  64, 100,  84,  87,  88,  85,  88,  88,  84,\n",
       "        87,  83,  95,  53,   0,   0,   0,   0,   0,   0,   0,   0,   0,\n",
       "         0,   0,   0,   0,   0,   0,  10, 102, 100,  91,  91,  89,  85,\n",
       "        84,  84,  87, 108, 106,  14,   0,   0,   0,   0,   0,   0,   0,\n",
       "         0,   0,   0,   0,   0,   0,   0,   0,   0,   8,  73,  93, 104,\n",
       "       107, 103, 103, 106, 102,  75,  10,   0,   0,   0,   0,   0,   0,\n",
       "         0,   0,   0,   0,   0,   0,   0,   0,   0,   0,   1,   0,   0,\n",
       "         0,  18,  42,  57,  56,  32,   8,   0,   0,   1,   0,   0,   0,\n",
       "         0,   0,   0,   0])"
      ]
     },
     "execution_count": 14,
     "metadata": {},
     "output_type": "execute_result"
    }
   ],
   "source": [
    "images"
   ]
  },
  {
   "cell_type": "code",
   "execution_count": 26,
   "metadata": {},
   "outputs": [
    {
     "data": {
      "text/plain": [
       "<matplotlib.image.AxesImage at 0x7f85c4cca630>"
      ]
     },
     "execution_count": 26,
     "metadata": {},
     "output_type": "execute_result"
    },
    {
     "data": {
      "image/png": "[encoded data removed]",
      "text/plain": [
       "<Figure size 432x288 with 1 Axes>"
      ]
     },
     "metadata": {
      "needs_background": "light"
     },
     "output_type": "display_data"
    }
   ],
   "source": [
    "plt.imshow(images[0].reshape(28,28),cmap='gray')"
   ]
  },
  {
   "cell_type": "code",
   "execution_count": 27,
   "metadata": {},
   "outputs": [],
   "source": [
    "images = images.reshape(-1,28,28,1)"
   ]
  },
  {
   "cell_type": "code",
   "execution_count": 28,
   "metadata": {},
   "outputs": [
    {
     "data": {
      "text/plain": [
       "(8000, 28, 28, 1)"
      ]
     },
     "execution_count": 28,
     "metadata": {},
     "output_type": "execute_result"
    }
   ],
   "source": [
    "images.shape"
   ]
  },
  {
   "cell_type": "code",
   "execution_count": 52,
   "metadata": {},
   "outputs": [],
   "source": [
    "images = images/255"
   ]
  },
  {
   "cell_type": "code",
   "execution_count": 29,
   "metadata": {},
   "outputs": [],
   "source": [
    "file = open('Vision_task_dataset_public/train_label.pkl', 'rb')\n",
    "label = pickle.load(file)\n",
    "file.close()"
   ]
  },
  {
   "cell_type": "code",
   "execution_count": 30,
   "metadata": {},
   "outputs": [
    {
     "data": {
      "text/plain": [
       "list"
      ]
     },
     "execution_count": 30,
     "metadata": {},
     "output_type": "execute_result"
    }
   ],
   "source": [
    "type(label)"
   ]
  },
  {
   "cell_type": "code",
   "execution_count": 31,
   "metadata": {},
   "outputs": [],
   "source": [
    "label = np.array(label)"
   ]
  },
  {
   "cell_type": "code",
   "execution_count": 32,
   "metadata": {},
   "outputs": [
    {
     "data": {
      "text/plain": [
       "(8000,)"
      ]
     },
     "execution_count": 32,
     "metadata": {},
     "output_type": "execute_result"
    }
   ],
   "source": [
    "label.shape"
   ]
  },
  {
   "cell_type": "code",
   "execution_count": 33,
   "metadata": {},
   "outputs": [
    {
     "data": {
      "text/plain": [
       "array([0, 2, 3, 6])"
      ]
     },
     "execution_count": 33,
     "metadata": {},
     "output_type": "execute_result"
    }
   ],
   "source": [
    "np.unique(label)"
   ]
  },
  {
   "cell_type": "code",
   "execution_count": 34,
   "metadata": {},
   "outputs": [],
   "source": [
    "label[label==2]=1\n",
    "label[label==3]=2\n",
    "label[label==6]=3"
   ]
  },
  {
   "cell_type": "code",
   "execution_count": 35,
   "metadata": {},
   "outputs": [
    {
     "data": {
      "text/plain": [
       "array([0, 1, 2, 3])"
      ]
     },
     "execution_count": 35,
     "metadata": {},
     "output_type": "execute_result"
    }
   ],
   "source": [
    "np.unique(label)"
   ]
  },
  {
   "cell_type": "code",
   "execution_count": 37,
   "metadata": {},
   "outputs": [],
   "source": [
    "temp = np.zeros((label.size, label.max()+1))\n",
    "temp[np.arange(label.size),label] = 1"
   ]
  },
  {
   "cell_type": "code",
   "execution_count": 40,
   "metadata": {},
   "outputs": [],
   "source": [
    "label = temp\n",
    "del(temp)"
   ]
  },
  {
   "cell_type": "code",
   "execution_count": 43,
   "metadata": {},
   "outputs": [
    {
     "data": {
      "text/plain": [
       "(8000, 4)"
      ]
     },
     "execution_count": 43,
     "metadata": {},
     "output_type": "execute_result"
    }
   ],
   "source": [
    "label.shape"
   ]
  },
  {
   "cell_type": "code",
   "execution_count": 45,
   "metadata": {},
   "outputs": [],
   "source": [
    "from sklearn.model_selection import train_test_split"
   ]
  },
  {
   "cell_type": "code",
   "execution_count": 88,
   "metadata": {},
   "outputs": [],
   "source": [
    "X_train, X_test, y_train, y_test = train_test_split(images, label, test_size=0.3, random_state=1)\n",
    "X_test, X_val, y_test, y_val = train_test_split(X_test, y_test, test_size=0.5, random_state=1)"
   ]
  },
  {
   "cell_type": "code",
   "execution_count": 54,
   "metadata": {},
   "outputs": [
    {
     "data": {
      "text/plain": [
       "((5600, 28, 28, 1),\n",
       " (1200, 28, 28, 1),\n",
       " (1200, 28, 28, 1),\n",
       " (5600, 4),\n",
       " (1200, 4),\n",
       " (1200, 4))"
      ]
     },
     "execution_count": 54,
     "metadata": {},
     "output_type": "execute_result"
    }
   ],
   "source": [
    "X_train.shape, X_test.shape,X_val.shape, y_train.shape, y_test.shape, y_val.shape"
   ]
  },
  {
   "cell_type": "code",
   "execution_count": 99,
   "metadata": {},
   "outputs": [],
   "source": [
    "import keras\n",
    "from keras.models import Sequential\n",
    "from keras.layers import Dense, Conv2D, Flatten,MaxPooling2D, Dropout"
   ]
  },
  {
   "cell_type": "code",
   "execution_count": 84,
   "metadata": {},
   "outputs": [],
   "source": [
    "#create model\n",
    "model = Sequential()\n",
    "#add model layers\n",
    "model.add(Conv2D(64, kernel_size=3, activation='relu',input_shape=(28,28,1)))\n",
    "model.add(Conv2D(32, kernel_size=3, activation='relu',padding = 'same'))\n",
    "model.add(Conv2D(32, kernel_size=3, activation='relu',padding = 'valid'))\n",
    "model.add(Conv2D(32, kernel_size=3, activation='relu',padding = 'same'))\n",
    "model.add(Conv2D(32, kernel_size=1, activation='relu',padding = 'valid'))\n",
    "model.add(Flatten())\n",
    "model.add(Dense(256, activation='relu'))\n",
    "model.add(Dense(128, activation='relu'))\n",
    "model.add(Dense(64, activation='relu'))\n",
    "model.add(Dense(4, activation='softmax'))"
   ]
  },
  {
   "cell_type": "code",
   "execution_count": 85,
   "metadata": {},
   "outputs": [
    {
     "name": "stdout",
     "output_type": "stream",
     "text": [
      "_________________________________________________________________\n",
      "Layer (type)                 Output Shape              Param #   \n",
      "=================================================================\n",
      "conv2d_37 (Conv2D)           (None, 26, 26, 64)        640       \n",
      "_________________________________________________________________\n",
      "conv2d_38 (Conv2D)           (None, 26, 26, 32)        18464     \n",
      "_________________________________________________________________\n",
      "conv2d_39 (Conv2D)           (None, 24, 24, 32)        9248      \n",
      "_________________________________________________________________\n",
      "conv2d_40 (Conv2D)           (None, 24, 24, 32)        9248      \n",
      "_________________________________________________________________\n",
      "conv2d_41 (Conv2D)           (None, 24, 24, 32)        1056      \n",
      "_________________________________________________________________\n",
      "flatten_3 (Flatten)          (None, 18432)             0         \n",
      "_________________________________________________________________\n",
      "dense_13 (Dense)             (None, 256)               4718848   \n",
      "_________________________________________________________________\n",
      "dense_14 (Dense)             (None, 128)               32896     \n",
      "_________________________________________________________________\n",
      "dense_15 (Dense)             (None, 64)                8256      \n",
      "_________________________________________________________________\n",
      "dense_16 (Dense)             (None, 4)                 260       \n",
      "=================================================================\n",
      "Total params: 4,798,916\n",
      "Trainable params: 4,798,916\n",
      "Non-trainable params: 0\n",
      "_________________________________________________________________\n"
     ]
    }
   ],
   "source": [
    "model.summary()"
   ]
  },
  {
   "cell_type": "code",
   "execution_count": 86,
   "metadata": {},
   "outputs": [],
   "source": [
    "model.compile(optimizer='adam', loss='categorical_crossentropy', metrics=['accuracy'])"
   ]
  },
  {
   "cell_type": "code",
   "execution_count": 87,
   "metadata": {},
   "outputs": [
    {
     "name": "stdout",
     "output_type": "stream",
     "text": [
      "Train on 5600 samples, validate on 1200 samples\n",
      "Epoch 1/10\n",
      "5600/5600 [==============================] - 54s 10ms/step - loss: 0.6997 - acc: 0.7032 - val_loss: 0.5275 - val_acc: 0.7983\n",
      "Epoch 2/10\n",
      "5600/5600 [==============================] - 52s 9ms/step - loss: 0.4705 - acc: 0.8148 - val_loss: 0.4433 - val_acc: 0.8233\n",
      "Epoch 3/10\n",
      "5600/5600 [==============================] - 53s 9ms/step - loss: 0.3811 - acc: 0.8502 - val_loss: 0.3935 - val_acc: 0.8400\n",
      "Epoch 4/10\n",
      "5600/5600 [==============================] - 52s 9ms/step - loss: 0.3180 - acc: 0.8723 - val_loss: 0.3912 - val_acc: 0.8383\n",
      "Epoch 5/10\n",
      "5600/5600 [==============================] - 52s 9ms/step - loss: 0.2669 - acc: 0.8973 - val_loss: 0.3995 - val_acc: 0.8408\n",
      "Epoch 6/10\n",
      "5600/5600 [==============================] - 52s 9ms/step - loss: 0.2153 - acc: 0.9139 - val_loss: 0.3898 - val_acc: 0.8592\n",
      "Epoch 7/10\n",
      "5600/5600 [==============================] - 52s 9ms/step - loss: 0.1553 - acc: 0.9387 - val_loss: 0.4533 - val_acc: 0.8433\n",
      "Epoch 8/10\n",
      "5600/5600 [==============================] - 53s 9ms/step - loss: 0.1285 - acc: 0.9541 - val_loss: 0.4901 - val_acc: 0.8458\n",
      "Epoch 9/10\n",
      "5600/5600 [==============================] - 54s 10ms/step - loss: 0.0823 - acc: 0.9723 - val_loss: 0.6050 - val_acc: 0.8517\n",
      "Epoch 10/10\n",
      "5600/5600 [==============================] - 55s 10ms/step - loss: 0.0565 - acc: 0.9800 - val_loss: 0.6592 - val_acc: 0.8450\n"
     ]
    },
    {
     "data": {
      "text/plain": [
       "<keras.callbacks.History at 0x7f855d5effd0>"
      ]
     },
     "execution_count": 87,
     "metadata": {},
     "output_type": "execute_result"
    }
   ],
   "source": [
    "model.fit(X_train,y_train,batch_size=64,epochs=10,validation_data=(X_val,y_val))"
   ]
  },
  {
   "cell_type": "code",
   "execution_count": 100,
   "metadata": {},
   "outputs": [],
   "source": [
    "model1 = Sequential()\n",
    "model1.add(Conv2D(32, kernel_size=(3, 3),\n",
    "                 activation='relu',\n",
    "                 input_shape=(28,28,1)))\n",
    "model1.add(MaxPooling2D((2, 2)))\n",
    "model1.add(Dropout(0.25))\n",
    "model1.add(Conv2D(64, (3, 3), activation='relu'))\n",
    "model1.add(MaxPooling2D(pool_size=(2, 2)))\n",
    "model1.add(Dropout(0.25))\n",
    "model1.add(Conv2D(128, (3, 3), activation='relu'))\n",
    "model1.add(Dropout(0.4))\n",
    "model1.add(Flatten())\n",
    "model1.add(Dense(128, activation='relu'))\n",
    "model1.add(Dropout(0.3))\n",
    "model1.add(Dense(4, activation='softmax'))\n",
    "\n",
    "model1.compile(loss='categorical_crossentropy',\n",
    "              optimizer='adam',\n",
    "              metrics=['accuracy'])\n"
   ]
  },
  {
   "cell_type": "code",
   "execution_count": 101,
   "metadata": {
    "scrolled": true
   },
   "outputs": [
    {
     "name": "stdout",
     "output_type": "stream",
     "text": [
      "Train on 6400 samples, validate on 1200 samples\n",
      "Epoch 1/50\n",
      "6400/6400 [==============================] - 11s 2ms/step - loss: 0.9012 - acc: 0.5930 - val_loss: 0.6630 - val_acc: 0.6950\n",
      "Epoch 2/50\n",
      "6400/6400 [==============================] - 9s 1ms/step - loss: 0.6596 - acc: 0.7080 - val_loss: 0.5463 - val_acc: 0.7758\n",
      "Epoch 3/50\n",
      "6400/6400 [==============================] - 9s 1ms/step - loss: 0.5721 - acc: 0.7641 - val_loss: 0.4808 - val_acc: 0.8158\n",
      "Epoch 4/50\n",
      "6400/6400 [==============================] - 9s 1ms/step - loss: 0.5121 - acc: 0.7939 - val_loss: 0.4445 - val_acc: 0.8250\n",
      "Epoch 5/50\n",
      "6400/6400 [==============================] - 9s 1ms/step - loss: 0.4795 - acc: 0.8113 - val_loss: 0.4015 - val_acc: 0.8367\n",
      "Epoch 6/50\n",
      "6400/6400 [==============================] - 9s 1ms/step - loss: 0.4404 - acc: 0.8236 - val_loss: 0.3832 - val_acc: 0.8517\n",
      "Epoch 7/50\n",
      "6400/6400 [==============================] - 9s 1ms/step - loss: 0.4353 - acc: 0.8238 - val_loss: 0.3869 - val_acc: 0.8433\n",
      "Epoch 8/50\n",
      "6400/6400 [==============================] - 9s 1ms/step - loss: 0.4006 - acc: 0.8377 - val_loss: 0.3538 - val_acc: 0.8525\n",
      "Epoch 9/50\n",
      "6400/6400 [==============================] - 9s 1ms/step - loss: 0.3948 - acc: 0.8448 - val_loss: 0.3528 - val_acc: 0.8542\n",
      "Epoch 10/50\n",
      "6400/6400 [==============================] - 9s 1ms/step - loss: 0.3812 - acc: 0.8467 - val_loss: 0.3412 - val_acc: 0.8608\n",
      "Epoch 11/50\n",
      "6400/6400 [==============================] - 9s 1ms/step - loss: 0.3778 - acc: 0.8522 - val_loss: 0.3424 - val_acc: 0.8517\n",
      "Epoch 12/50\n",
      "6400/6400 [==============================] - 9s 1ms/step - loss: 0.3507 - acc: 0.8628 - val_loss: 0.3307 - val_acc: 0.8625\n",
      "Epoch 13/50\n",
      "6400/6400 [==============================] - 9s 1ms/step - loss: 0.3406 - acc: 0.8630 - val_loss: 0.3204 - val_acc: 0.8708\n",
      "Epoch 14/50\n",
      "6400/6400 [==============================] - 9s 1ms/step - loss: 0.3289 - acc: 0.8669 - val_loss: 0.3172 - val_acc: 0.8750\n",
      "Epoch 15/50\n",
      "6400/6400 [==============================] - 9s 1ms/step - loss: 0.3242 - acc: 0.8698 - val_loss: 0.3172 - val_acc: 0.8725\n",
      "Epoch 16/50\n",
      "6400/6400 [==============================] - 9s 1ms/step - loss: 0.3114 - acc: 0.8786 - val_loss: 0.3146 - val_acc: 0.8750\n",
      "Epoch 17/50\n",
      "6400/6400 [==============================] - 10s 2ms/step - loss: 0.3064 - acc: 0.8802 - val_loss: 0.3079 - val_acc: 0.8808\n",
      "Epoch 18/50\n",
      "6400/6400 [==============================] - 9s 1ms/step - loss: 0.2940 - acc: 0.8814 - val_loss: 0.3027 - val_acc: 0.8767\n",
      "Epoch 19/50\n",
      "6400/6400 [==============================] - 9s 1ms/step - loss: 0.2814 - acc: 0.8859 - val_loss: 0.2982 - val_acc: 0.8867\n",
      "Epoch 20/50\n",
      "6400/6400 [==============================] - 9s 1ms/step - loss: 0.2813 - acc: 0.8917 - val_loss: 0.3194 - val_acc: 0.8767\n",
      "Epoch 21/50\n",
      "6400/6400 [==============================] - 9s 1ms/step - loss: 0.2701 - acc: 0.8956 - val_loss: 0.3155 - val_acc: 0.8733\n",
      "Epoch 22/50\n",
      "6400/6400 [==============================] - 8s 1ms/step - loss: 0.2712 - acc: 0.8898 - val_loss: 0.3106 - val_acc: 0.8758\n",
      "Epoch 23/50\n",
      "6400/6400 [==============================] - 8s 1ms/step - loss: 0.2679 - acc: 0.8955 - val_loss: 0.3045 - val_acc: 0.8800\n",
      "Epoch 24/50\n",
      "6400/6400 [==============================] - 9s 1ms/step - loss: 0.2498 - acc: 0.8980 - val_loss: 0.3037 - val_acc: 0.8842\n",
      "Epoch 25/50\n",
      "6400/6400 [==============================] - 9s 1ms/step - loss: 0.2475 - acc: 0.9005 - val_loss: 0.2983 - val_acc: 0.8892\n",
      "Epoch 26/50\n",
      "6400/6400 [==============================] - 9s 1ms/step - loss: 0.2448 - acc: 0.9084 - val_loss: 0.2971 - val_acc: 0.8883\n",
      "Epoch 27/50\n",
      "6400/6400 [==============================] - 9s 1ms/step - loss: 0.2421 - acc: 0.9028 - val_loss: 0.2840 - val_acc: 0.8933\n",
      "Epoch 28/50\n",
      "6400/6400 [==============================] - 9s 1ms/step - loss: 0.2309 - acc: 0.9070 - val_loss: 0.2927 - val_acc: 0.8875\n",
      "Epoch 29/50\n",
      "6400/6400 [==============================] - 9s 1ms/step - loss: 0.2282 - acc: 0.9120 - val_loss: 0.2830 - val_acc: 0.8908\n",
      "Epoch 30/50\n",
      "6400/6400 [==============================] - 9s 1ms/step - loss: 0.2271 - acc: 0.9150 - val_loss: 0.2904 - val_acc: 0.8833\n",
      "Epoch 31/50\n",
      "6400/6400 [==============================] - 9s 1ms/step - loss: 0.2246 - acc: 0.9095 - val_loss: 0.2813 - val_acc: 0.8958\n",
      "Epoch 32/50\n",
      "6400/6400 [==============================] - 9s 1ms/step - loss: 0.2057 - acc: 0.9161 - val_loss: 0.2761 - val_acc: 0.9017\n",
      "Epoch 33/50\n",
      "6400/6400 [==============================] - 9s 1ms/step - loss: 0.2074 - acc: 0.9153 - val_loss: 0.2863 - val_acc: 0.8975\n",
      "Epoch 34/50\n",
      "6400/6400 [==============================] - 9s 1ms/step - loss: 0.2018 - acc: 0.9198 - val_loss: 0.2871 - val_acc: 0.8983\n",
      "Epoch 35/50\n",
      "6400/6400 [==============================] - 9s 1ms/step - loss: 0.2041 - acc: 0.9203 - val_loss: 0.2811 - val_acc: 0.8983\n",
      "Epoch 36/50\n",
      "6400/6400 [==============================] - 10s 1ms/step - loss: 0.1983 - acc: 0.9228 - val_loss: 0.2855 - val_acc: 0.8958\n",
      "Epoch 37/50\n",
      "6400/6400 [==============================] - 10s 2ms/step - loss: 0.1912 - acc: 0.9234 - val_loss: 0.2921 - val_acc: 0.9025\n",
      "Epoch 38/50\n",
      "6400/6400 [==============================] - 9s 1ms/step - loss: 0.1795 - acc: 0.9313 - val_loss: 0.2886 - val_acc: 0.9017\n",
      "Epoch 39/50\n",
      "6400/6400 [==============================] - 10s 2ms/step - loss: 0.1879 - acc: 0.9244 - val_loss: 0.2986 - val_acc: 0.8958\n",
      "Epoch 40/50\n",
      "6400/6400 [==============================] - 10s 1ms/step - loss: 0.1848 - acc: 0.9233 - val_loss: 0.2890 - val_acc: 0.9000\n",
      "Epoch 41/50\n",
      "6400/6400 [==============================] - 10s 2ms/step - loss: 0.1756 - acc: 0.9295 - val_loss: 0.2753 - val_acc: 0.9100\n",
      "Epoch 42/50\n",
      "6400/6400 [==============================] - 9s 1ms/step - loss: 0.1786 - acc: 0.9302 - val_loss: 0.2786 - val_acc: 0.8992\n",
      "Epoch 43/50\n",
      "6400/6400 [==============================] - 10s 2ms/step - loss: 0.1650 - acc: 0.9355 - val_loss: 0.2854 - val_acc: 0.9033\n",
      "Epoch 44/50\n",
      "6400/6400 [==============================] - 8s 1ms/step - loss: 0.1705 - acc: 0.9313 - val_loss: 0.2828 - val_acc: 0.9067\n",
      "Epoch 45/50\n",
      "6400/6400 [==============================] - 8s 1ms/step - loss: 0.1611 - acc: 0.9339 - val_loss: 0.2887 - val_acc: 0.9067\n",
      "Epoch 46/50\n",
      "6400/6400 [==============================] - 7s 1ms/step - loss: 0.1646 - acc: 0.9366 - val_loss: 0.2843 - val_acc: 0.9008\n",
      "Epoch 47/50\n",
      "6400/6400 [==============================] - 7s 1ms/step - loss: 0.1482 - acc: 0.9427 - val_loss: 0.3022 - val_acc: 0.9067\n",
      "Epoch 48/50\n",
      "6400/6400 [==============================] - 8s 1ms/step - loss: 0.1664 - acc: 0.9338 - val_loss: 0.2859 - val_acc: 0.9050\n",
      "Epoch 49/50\n",
      "6400/6400 [==============================] - 8s 1ms/step - loss: 0.1621 - acc: 0.9364 - val_loss: 0.2871 - val_acc: 0.9050\n",
      "Epoch 50/50\n",
      "6400/6400 [==============================] - 8s 1ms/step - loss: 0.1586 - acc: 0.9378 - val_loss: 0.2906 - val_acc: 0.9058\n"
     ]
    }
   ],
   "source": [
    "hist= model1.fit(X_train,y_train,batch_size=64,epochs=50,validation_data=(X_val,y_val))"
   ]
  },
  {
   "cell_type": "code",
   "execution_count": 115,
   "metadata": {},
   "outputs": [
    {
     "data": {
      "image/png": "[encoded data removed]",
      "text/plain": [
       "<Figure size 432x288 with 1 Axes>"
      ]
     },
     "metadata": {
      "needs_background": "light"
     },
     "output_type": "display_data"
    },
    {
     "data": {
      "image/png": "[encoded data removed]",
      "text/plain": [
       "<Figure size 432x288 with 1 Axes>"
      ]
     },
     "metadata": {
      "needs_background": "light"
     },
     "output_type": "display_data"
    }
   ],
   "source": [
    "accuracy = hist.history['acc']\n",
    "val_accuracy = hist.history['val_acc']\n",
    "loss = hist.history['loss']\n",
    "val_loss = hist.history['val_loss']\n",
    "epochs = range(len(accuracy))\n",
    "plt.plot(epochs, accuracy, 'ro', label='Training accuracy')\n",
    "plt.plot(epochs, val_accuracy, 'b', label='Validation accuracy')\n",
    "plt.title('Training and validation accuracy')\n",
    "plt.legend()\n",
    "plt.figure()\n",
    "plt.plot(epochs, loss, 'ro', label='Training loss')\n",
    "plt.plot(epochs, val_loss, 'b', label='Validation loss')\n",
    "plt.title('Training and validation loss')\n",
    "plt.legend()\n",
    "plt.show()"
   ]
  },
  {
   "cell_type": "code",
   "execution_count": 120,
   "metadata": {},
   "outputs": [
    {
     "name": "stdout",
     "output_type": "stream",
     "text": [
      "1600/1600 [==============================] - 0s 297us/step\n",
      "Test score: 0.43309426069259643\n",
      "Test accuracy: 0.879375\n"
     ]
    }
   ],
   "source": [
    "score, acc = model1.evaluate(X_test, y_test)\n",
    "print('Test score:', score)\n",
    "print('Test accuracy:', acc)"
   ]
  },
  {
   "cell_type": "code",
   "execution_count": 111,
   "metadata": {},
   "outputs": [],
   "source": [
    "model2 = Sequential()\n",
    "model2.add(Conv2D(32, kernel_size=3,\n",
    "                 activation='relu',\n",
    "                 kernel_initializer='he_normal',\n",
    "                 input_shape=(28,28,1)))\n",
    "model2.add(MaxPooling2D((2, 2)))\n",
    "model2.add(Dropout(0.25))\n",
    "model2.add(Conv2D(64, 3, activation='relu',kernel_initializer='he_normal'))\n",
    "model2.add(MaxPooling2D(pool_size=(2, 2)))\n",
    "model2.add(Dropout(0.25))\n",
    "model2.add(Conv2D(128, 3, activation='relu',kernel_initializer='he_normal'))\n",
    "model2.add(Dropout(0.4))\n",
    "model2.add(Flatten())\n",
    "model2.add(Dense(512, activation='relu',kernel_initializer='he_normal'))\n",
    "model2.add(Dropout(0.3))\n",
    "model2.add(Dense(128, activation='relu',kernel_initializer='he_normal'))\n",
    "model2.add(Dropout(0.3))\n",
    "model2.add(Dense(4, activation='softmax'))\n",
    "\n",
    "model2.compile(loss='categorical_crossentropy',\n",
    "              optimizer='adam',\n",
    "              metrics=['accuracy'])"
   ]
  },
  {
   "cell_type": "code",
   "execution_count": 113,
   "metadata": {},
   "outputs": [
    {
     "name": "stdout",
     "output_type": "stream",
     "text": [
      "Train on 6400 samples, validate on 1200 samples\n",
      "Epoch 1/50\n",
      "6400/6400 [==============================] - 14s 2ms/step - loss: 1.1369 - acc: 0.5053 - val_loss: 0.7855 - val_acc: 0.6592\n",
      "Epoch 2/50\n",
      "6400/6400 [==============================] - 12s 2ms/step - loss: 0.8058 - acc: 0.6397 - val_loss: 0.6946 - val_acc: 0.6958\n",
      "Epoch 3/50\n",
      "6400/6400 [==============================] - 13s 2ms/step - loss: 0.7089 - acc: 0.6775 - val_loss: 0.6336 - val_acc: 0.7083\n",
      "Epoch 4/50\n",
      "6400/6400 [==============================] - 11s 2ms/step - loss: 0.6644 - acc: 0.6956 - val_loss: 0.5664 - val_acc: 0.7258\n",
      "Epoch 5/50\n",
      "6400/6400 [==============================] - 10s 2ms/step - loss: 0.6220 - acc: 0.7156 - val_loss: 0.5377 - val_acc: 0.7567\n",
      "Epoch 6/50\n",
      "6400/6400 [==============================] - 9s 1ms/step - loss: 0.5802 - acc: 0.7539 - val_loss: 0.5022 - val_acc: 0.7717\n",
      "Epoch 7/50\n",
      "6400/6400 [==============================] - 8s 1ms/step - loss: 0.5591 - acc: 0.7686 - val_loss: 0.4758 - val_acc: 0.7792\n",
      "Epoch 8/50\n",
      "6400/6400 [==============================] - 7s 1ms/step - loss: 0.5228 - acc: 0.7883 - val_loss: 0.4451 - val_acc: 0.8108\n",
      "Epoch 9/50\n",
      "6400/6400 [==============================] - 7s 1ms/step - loss: 0.4905 - acc: 0.8009 - val_loss: 0.4170 - val_acc: 0.8300\n",
      "Epoch 10/50\n",
      "6400/6400 [==============================] - 7s 1ms/step - loss: 0.4591 - acc: 0.8114 - val_loss: 0.4146 - val_acc: 0.8217\n",
      "Epoch 11/50\n",
      "6400/6400 [==============================] - 7s 1ms/step - loss: 0.4461 - acc: 0.8223 - val_loss: 0.3833 - val_acc: 0.8392\n",
      "Epoch 12/50\n",
      "6400/6400 [==============================] - 7s 1ms/step - loss: 0.4283 - acc: 0.8322 - val_loss: 0.3816 - val_acc: 0.8383\n",
      "Epoch 13/50\n",
      "6400/6400 [==============================] - 7s 1ms/step - loss: 0.4176 - acc: 0.8364 - val_loss: 0.3785 - val_acc: 0.8458\n",
      "Epoch 14/50\n",
      "6400/6400 [==============================] - 7s 1ms/step - loss: 0.4158 - acc: 0.8361 - val_loss: 0.3773 - val_acc: 0.8450\n",
      "Epoch 15/50\n",
      "6400/6400 [==============================] - 7s 1ms/step - loss: 0.3898 - acc: 0.8413 - val_loss: 0.3450 - val_acc: 0.8642\n",
      "Epoch 16/50\n",
      "6400/6400 [==============================] - 7s 1ms/step - loss: 0.3796 - acc: 0.8473 - val_loss: 0.3504 - val_acc: 0.8608\n",
      "Epoch 17/50\n",
      "6400/6400 [==============================] - 7s 1ms/step - loss: 0.3668 - acc: 0.8520 - val_loss: 0.3372 - val_acc: 0.8617\n",
      "Epoch 18/50\n",
      "6400/6400 [==============================] - 8s 1ms/step - loss: 0.3623 - acc: 0.8511 - val_loss: 0.3770 - val_acc: 0.8367\n",
      "Epoch 19/50\n",
      "6400/6400 [==============================] - 7s 1ms/step - loss: 0.3569 - acc: 0.8588 - val_loss: 0.3215 - val_acc: 0.8675\n",
      "Epoch 20/50\n",
      "6400/6400 [==============================] - 7s 1ms/step - loss: 0.3448 - acc: 0.8623 - val_loss: 0.3248 - val_acc: 0.8675\n",
      "Epoch 21/50\n",
      "6400/6400 [==============================] - 7s 1ms/step - loss: 0.3281 - acc: 0.8708 - val_loss: 0.3458 - val_acc: 0.8592\n",
      "Epoch 22/50\n",
      "6400/6400 [==============================] - 7s 1ms/step - loss: 0.3357 - acc: 0.8669 - val_loss: 0.3205 - val_acc: 0.8708\n",
      "Epoch 23/50\n",
      "6400/6400 [==============================] - 7s 1ms/step - loss: 0.3199 - acc: 0.8695 - val_loss: 0.3100 - val_acc: 0.8717\n",
      "Epoch 24/50\n",
      "6400/6400 [==============================] - 7s 1ms/step - loss: 0.3177 - acc: 0.8741 - val_loss: 0.3151 - val_acc: 0.8792\n",
      "Epoch 25/50\n",
      "6400/6400 [==============================] - 7s 1ms/step - loss: 0.3119 - acc: 0.8739 - val_loss: 0.3053 - val_acc: 0.8817\n",
      "Epoch 26/50\n",
      "6400/6400 [==============================] - 7s 1ms/step - loss: 0.3019 - acc: 0.8812 - val_loss: 0.3050 - val_acc: 0.8817\n",
      "Epoch 27/50\n",
      "6400/6400 [==============================] - 7s 1ms/step - loss: 0.3001 - acc: 0.8772 - val_loss: 0.2985 - val_acc: 0.8808\n",
      "Epoch 28/50\n",
      "6400/6400 [==============================] - 7s 1ms/step - loss: 0.2854 - acc: 0.8889 - val_loss: 0.2959 - val_acc: 0.8825\n",
      "Epoch 29/50\n",
      "6400/6400 [==============================] - 7s 1ms/step - loss: 0.2883 - acc: 0.8873 - val_loss: 0.2994 - val_acc: 0.8817\n",
      "Epoch 30/50\n",
      "6400/6400 [==============================] - 7s 1ms/step - loss: 0.2843 - acc: 0.8897 - val_loss: 0.2924 - val_acc: 0.8950\n",
      "Epoch 31/50\n",
      "6400/6400 [==============================] - 7s 1ms/step - loss: 0.2645 - acc: 0.8942 - val_loss: 0.3001 - val_acc: 0.8967\n",
      "Epoch 32/50\n",
      "6400/6400 [==============================] - 7s 1ms/step - loss: 0.2682 - acc: 0.8939 - val_loss: 0.3002 - val_acc: 0.8908\n",
      "Epoch 33/50\n",
      "6400/6400 [==============================] - 7s 1ms/step - loss: 0.2608 - acc: 0.8973 - val_loss: 0.2889 - val_acc: 0.8983\n",
      "Epoch 34/50\n",
      "6400/6400 [==============================] - 7s 1ms/step - loss: 0.2566 - acc: 0.8977 - val_loss: 0.3053 - val_acc: 0.8833\n",
      "Epoch 35/50\n",
      "6400/6400 [==============================] - 7s 1ms/step - loss: 0.2573 - acc: 0.8964 - val_loss: 0.2885 - val_acc: 0.8825\n",
      "Epoch 36/50\n",
      "6400/6400 [==============================] - 7s 1ms/step - loss: 0.2472 - acc: 0.9016 - val_loss: 0.2967 - val_acc: 0.8917\n",
      "Epoch 37/50\n",
      "6400/6400 [==============================] - 7s 1ms/step - loss: 0.2418 - acc: 0.9000 - val_loss: 0.2896 - val_acc: 0.8967\n",
      "Epoch 38/50\n",
      "6400/6400 [==============================] - 7s 1ms/step - loss: 0.2278 - acc: 0.9072 - val_loss: 0.2951 - val_acc: 0.8975\n",
      "Epoch 39/50\n",
      "6400/6400 [==============================] - 7s 1ms/step - loss: 0.2352 - acc: 0.9078 - val_loss: 0.2962 - val_acc: 0.8942\n",
      "Epoch 40/50\n",
      "6400/6400 [==============================] - 7s 1ms/step - loss: 0.2268 - acc: 0.9070 - val_loss: 0.2949 - val_acc: 0.8942\n",
      "Epoch 41/50\n",
      "6400/6400 [==============================] - 7s 1ms/step - loss: 0.2315 - acc: 0.9081 - val_loss: 0.2870 - val_acc: 0.8925\n",
      "Epoch 42/50\n",
      "6400/6400 [==============================] - 7s 1ms/step - loss: 0.2099 - acc: 0.9156 - val_loss: 0.3069 - val_acc: 0.8942\n",
      "Epoch 43/50\n",
      "6400/6400 [==============================] - 7s 1ms/step - loss: 0.2261 - acc: 0.9084 - val_loss: 0.3099 - val_acc: 0.8983\n",
      "Epoch 44/50\n",
      "6400/6400 [==============================] - 7s 1ms/step - loss: 0.2139 - acc: 0.9158 - val_loss: 0.3130 - val_acc: 0.8908\n",
      "Epoch 45/50\n",
      "6400/6400 [==============================] - 7s 1ms/step - loss: 0.2016 - acc: 0.9172 - val_loss: 0.2975 - val_acc: 0.9050\n",
      "Epoch 46/50\n",
      "6400/6400 [==============================] - 7s 1ms/step - loss: 0.1968 - acc: 0.9178 - val_loss: 0.2955 - val_acc: 0.9025\n",
      "Epoch 47/50\n",
      "6400/6400 [==============================] - 7s 1ms/step - loss: 0.1909 - acc: 0.9245 - val_loss: 0.3116 - val_acc: 0.8975\n",
      "Epoch 48/50\n",
      "6400/6400 [==============================] - 7s 1ms/step - loss: 0.1959 - acc: 0.9248 - val_loss: 0.2892 - val_acc: 0.9008\n",
      "Epoch 49/50\n",
      "6400/6400 [==============================] - 7s 1ms/step - loss: 0.2041 - acc: 0.9223 - val_loss: 0.2915 - val_acc: 0.8983\n",
      "Epoch 50/50\n",
      "6400/6400 [==============================] - 7s 1ms/step - loss: 0.1919 - acc: 0.9242 - val_loss: 0.2926 - val_acc: 0.9075\n"
     ]
    }
   ],
   "source": [
    "hist= model2.fit(X_train,y_train,batch_size=64,epochs=50,validation_data=(X_val,y_val))"
   ]
  },
  {
   "cell_type": "code",
   "execution_count": 121,
   "metadata": {},
   "outputs": [
    {
     "name": "stdout",
     "output_type": "stream",
     "text": [
      "1600/1600 [==============================] - 1s 334us/step\n",
      "Test score: 0.3944107460975647\n",
      "Test accuracy: 0.871875\n"
     ]
    }
   ],
   "source": [
    "score, acc = model2.evaluate(X_test, y_test)\n",
    "print('Test score:', score)\n",
    "print('Test accuracy:', acc)"
   ]
  },
  {
   "cell_type": "code",
   "execution_count": 122,
   "metadata": {},
   "outputs": [],
   "source": [
    "datagen = ImageDataGenerator(\n",
    "    featurewise_center=True,\n",
    "    featurewise_std_normalization=True,\n",
    "    rotation_range=20,\n",
    "    width_shift_range=0.2,\n",
    "    height_shift_range=0.2,\n",
    "    vertical_flip=True)\n",
    "datagen.fit(X_train)"
   ]
  },
  {
   "cell_type": "code",
   "execution_count": 127,
   "metadata": {},
   "outputs": [
    {
     "name": "stdout",
     "output_type": "stream",
     "text": [
      "Epoch 1/50\n",
      "200/200 [==============================] - 10s 48ms/step - loss: 0.7090 - acc: 0.7239 - val_loss: 12.2632 - val_acc: 0.2392\n",
      "Epoch 2/50\n",
      "200/200 [==============================] - 10s 49ms/step - loss: 0.7052 - acc: 0.7264 - val_loss: 12.2632 - val_acc: 0.2392\n",
      "Epoch 3/50\n",
      "200/200 [==============================] - 9s 47ms/step - loss: 0.6908 - acc: 0.7239 - val_loss: 12.2632 - val_acc: 0.2392\n",
      "Epoch 4/50\n",
      "200/200 [==============================] - 10s 49ms/step - loss: 0.6992 - acc: 0.7239 - val_loss: 12.2632 - val_acc: 0.2392\n",
      "Epoch 5/50\n",
      "200/200 [==============================] - 10s 48ms/step - loss: 0.6755 - acc: 0.7375 - val_loss: 12.2632 - val_acc: 0.2392\n",
      "Epoch 6/50\n",
      "200/200 [==============================] - 10s 49ms/step - loss: 0.6746 - acc: 0.7416 - val_loss: 12.2632 - val_acc: 0.2392\n",
      "Epoch 7/50\n",
      "200/200 [==============================] - 10s 49ms/step - loss: 0.6730 - acc: 0.7406 - val_loss: 12.2632 - val_acc: 0.2392\n",
      "Epoch 8/50\n",
      "200/200 [==============================] - 10s 50ms/step - loss: 0.6777 - acc: 0.7377 - val_loss: 12.2632 - val_acc: 0.2392\n",
      "Epoch 9/50\n",
      "200/200 [==============================] - 10s 50ms/step - loss: 0.6637 - acc: 0.7469 - val_loss: 11.6711 - val_acc: 0.2392\n",
      "Epoch 10/50\n",
      "200/200 [==============================] - 10s 50ms/step - loss: 0.6579 - acc: 0.7478 - val_loss: 12.2632 - val_acc: 0.2392\n",
      "Epoch 11/50\n",
      "200/200 [==============================] - 10s 50ms/step - loss: 0.6558 - acc: 0.7455 - val_loss: 12.2632 - val_acc: 0.2392\n",
      "Epoch 12/50\n",
      "200/200 [==============================] - 10s 50ms/step - loss: 0.6402 - acc: 0.7472 - val_loss: 12.2632 - val_acc: 0.2392\n",
      "Epoch 13/50\n",
      "200/200 [==============================] - 10s 51ms/step - loss: 0.6303 - acc: 0.7581 - val_loss: 12.2632 - val_acc: 0.2392\n",
      "Epoch 14/50\n",
      "200/200 [==============================] - 10s 50ms/step - loss: 0.6546 - acc: 0.7436 - val_loss: 12.2632 - val_acc: 0.2392\n",
      "Epoch 15/50\n",
      "200/200 [==============================] - 10s 50ms/step - loss: 0.6245 - acc: 0.7617 - val_loss: 12.2632 - val_acc: 0.2392\n",
      "Epoch 16/50\n",
      "200/200 [==============================] - 10s 50ms/step - loss: 0.6426 - acc: 0.7495 - val_loss: 12.2632 - val_acc: 0.2392\n",
      "Epoch 17/50\n",
      "200/200 [==============================] - 10s 50ms/step - loss: 0.6323 - acc: 0.7489 - val_loss: 12.2632 - val_acc: 0.2392\n",
      "Epoch 18/50\n",
      "200/200 [==============================] - 10s 49ms/step - loss: 0.6276 - acc: 0.7578 - val_loss: 12.2632 - val_acc: 0.2392\n",
      "Epoch 19/50\n",
      "200/200 [==============================] - 10s 52ms/step - loss: 0.6189 - acc: 0.7602 - val_loss: 12.2632 - val_acc: 0.2392\n",
      "Epoch 20/50\n",
      "200/200 [==============================] - 10s 51ms/step - loss: 0.6073 - acc: 0.7603 - val_loss: 12.2632 - val_acc: 0.2392\n",
      "Epoch 21/50\n",
      "200/200 [==============================] - 10s 51ms/step - loss: 0.6217 - acc: 0.7597 - val_loss: 10.0947 - val_acc: 0.2392\n",
      "Epoch 22/50\n",
      "200/200 [==============================] - 10s 51ms/step - loss: 0.6202 - acc: 0.7595 - val_loss: 12.2632 - val_acc: 0.2392\n",
      "Epoch 23/50\n",
      "200/200 [==============================] - 10s 51ms/step - loss: 0.6181 - acc: 0.7580 - val_loss: 12.1289 - val_acc: 0.2475\n",
      "Epoch 24/50\n",
      "200/200 [==============================] - 10s 50ms/step - loss: 0.6107 - acc: 0.7591 - val_loss: 12.2632 - val_acc: 0.2392\n",
      "Epoch 25/50\n",
      "200/200 [==============================] - 10s 51ms/step - loss: 0.6092 - acc: 0.7622 - val_loss: 12.2632 - val_acc: 0.2392\n",
      "Epoch 26/50\n",
      "200/200 [==============================] - 10s 51ms/step - loss: 0.6064 - acc: 0.7637 - val_loss: 9.9515 - val_acc: 0.2392\n",
      "Epoch 27/50\n",
      "200/200 [==============================] - 10s 50ms/step - loss: 0.6046 - acc: 0.7628 - val_loss: 12.2632 - val_acc: 0.2392\n",
      "Epoch 28/50\n",
      "200/200 [==============================] - 10s 50ms/step - loss: 0.5938 - acc: 0.7675 - val_loss: 12.2624 - val_acc: 0.2392\n",
      "Epoch 29/50\n",
      "200/200 [==============================] - 10s 51ms/step - loss: 0.5935 - acc: 0.7620 - val_loss: 12.2632 - val_acc: 0.2392\n",
      "Epoch 30/50\n",
      "200/200 [==============================] - 10s 51ms/step - loss: 0.5917 - acc: 0.7702 - val_loss: 8.8888 - val_acc: 0.2475\n",
      "Epoch 31/50\n",
      "200/200 [==============================] - 10s 51ms/step - loss: 0.5861 - acc: 0.7723 - val_loss: 12.1289 - val_acc: 0.2475\n",
      "Epoch 32/50\n",
      "200/200 [==============================] - 10s 51ms/step - loss: 0.5844 - acc: 0.7672 - val_loss: 12.1289 - val_acc: 0.2475\n",
      "Epoch 33/50\n",
      "200/200 [==============================] - 10s 51ms/step - loss: 0.5881 - acc: 0.7684 - val_loss: 9.4960 - val_acc: 0.2475\n",
      "Epoch 34/50\n",
      "200/200 [==============================] - 10s 51ms/step - loss: 0.5928 - acc: 0.7708 - val_loss: 12.2632 - val_acc: 0.2392\n",
      "Epoch 35/50\n",
      "200/200 [==============================] - 10s 50ms/step - loss: 0.5778 - acc: 0.7753 - val_loss: 12.2632 - val_acc: 0.2392\n",
      "Epoch 36/50\n",
      "200/200 [==============================] - 10s 50ms/step - loss: 0.5782 - acc: 0.7753 - val_loss: 12.1289 - val_acc: 0.2475\n",
      "Epoch 37/50\n",
      "200/200 [==============================] - 10s 51ms/step - loss: 0.5850 - acc: 0.7762 - val_loss: 12.2632 - val_acc: 0.2392\n",
      "Epoch 38/50\n",
      "200/200 [==============================] - 11s 53ms/step - loss: 0.5738 - acc: 0.7741 - val_loss: 12.0361 - val_acc: 0.2392\n",
      "Epoch 39/50\n",
      "200/200 [==============================] - 10s 52ms/step - loss: 0.5781 - acc: 0.7786 - val_loss: 12.2632 - val_acc: 0.2392\n",
      "Epoch 40/50\n",
      "200/200 [==============================] - 10s 51ms/step - loss: 0.5817 - acc: 0.7717 - val_loss: 12.1289 - val_acc: 0.2475\n",
      "Epoch 41/50\n",
      "200/200 [==============================] - 10s 51ms/step - loss: 0.5830 - acc: 0.7747 - val_loss: 8.8191 - val_acc: 0.2392\n",
      "Epoch 42/50\n",
      "200/200 [==============================] - 10s 52ms/step - loss: 0.5780 - acc: 0.7837 - val_loss: 12.1289 - val_acc: 0.2475\n",
      "Epoch 43/50\n",
      "200/200 [==============================] - 10s 51ms/step - loss: 0.5789 - acc: 0.7762 - val_loss: 12.1289 - val_acc: 0.2475\n",
      "Epoch 44/50\n",
      "200/200 [==============================] - 10s 52ms/step - loss: 0.5636 - acc: 0.7814 - val_loss: 9.2546 - val_acc: 0.2392\n",
      "Epoch 45/50\n",
      "200/200 [==============================] - 10s 52ms/step - loss: 0.5726 - acc: 0.7784 - val_loss: 8.6541 - val_acc: 0.2350\n",
      "Epoch 46/50\n",
      "200/200 [==============================] - 10s 52ms/step - loss: 0.5674 - acc: 0.7783 - val_loss: 11.3583 - val_acc: 0.2392\n",
      "Epoch 47/50\n",
      "200/200 [==============================] - 10s 52ms/step - loss: 0.5591 - acc: 0.7747 - val_loss: 12.2632 - val_acc: 0.2392\n",
      "Epoch 48/50\n",
      "200/200 [==============================] - 11s 53ms/step - loss: 0.5667 - acc: 0.7728 - val_loss: 8.7154 - val_acc: 0.2475\n",
      "Epoch 49/50\n",
      "200/200 [==============================] - 11s 54ms/step - loss: 0.5653 - acc: 0.7834 - val_loss: 12.1289 - val_acc: 0.2475\n",
      "Epoch 50/50\n",
      "200/200 [==============================] - 11s 53ms/step - loss: 0.5545 - acc: 0.7872 - val_loss: 12.1289 - val_acc: 0.2475\n"
     ]
    },
    {
     "data": {
      "text/plain": [
       "<keras.callbacks.History at 0x7f85563d97b8>"
      ]
     },
     "execution_count": 127,
     "metadata": {},
     "output_type": "execute_result"
    }
   ],
   "source": [
    "model1.fit_generator(datagen.flow(X_train, y_train, batch_size=32),steps_per_epoch=len(X_train) / 32,validation_data=datagen.flow(X_val, y_val, batch_size=32), epochs=50, validation_steps=len(X_val) / 32)"
   ]
  },
  {
   "cell_type": "code",
   "execution_count": null,
   "metadata": {},
   "outputs": [],
   "source": []
  }
 ],
 "metadata": {
  "kernelspec": {
   "display_name": "Python 3",
   "language": "python",
   "name": "python3"
  },
  "language_info": {
   "codemirror_mode": {
    "name": "ipython",
    "version": 3
   },
   "file_extension": ".py",
   "mimetype": "text/x-python",
   "name": "python",
   "nbconvert_exporter": "python",
   "pygments_lexer": "ipython3",
   "version": "3.6.7"
  }
 },
 "nbformat": 4,
 "nbformat_minor": 2
}
